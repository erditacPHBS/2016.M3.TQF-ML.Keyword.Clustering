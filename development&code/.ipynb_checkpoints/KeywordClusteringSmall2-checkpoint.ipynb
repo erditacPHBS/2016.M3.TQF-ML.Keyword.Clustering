{
 "cells": [
  {
   "cell_type": "code",
   "execution_count": 1,
   "metadata": {
    "collapsed": false
   },
   "outputs": [
    {
     "name": "stdout",
     "output_type": "stream",
     "text": [
      "Index([u'id', u'relevance', u'date_added', u'article_id', u'entity_id'], dtype='object')\n",
      "(262, 5)\n"
     ]
    }
   ],
   "source": [
    "# import pandas library to read data from files and to create data frames\n",
    "import pandas as pd\n",
    "\n",
    "# read the entitiy-article relationship data from csv file to a dataframe\n",
    "entityRel = pd.read_csv('data_files/entityRelSmallX2.csv',sep=';')\n",
    "\n",
    "# print the column names and the dataframe dimensions\n",
    "print(entityRel.columns)\n",
    "print(entityRel.shape)"
   ]
  },
  {
   "cell_type": "code",
   "execution_count": 2,
   "metadata": {
    "collapsed": true
   },
   "outputs": [],
   "source": [
    "# Get rid of the keyword-article relations that has 0 relevance.\n",
    "# We do that because 0 relevance means we're not sure at all whether that keyword has a relationship with the keyword or not\n",
    "\n",
    "entityRelNotZero = entityRel[entityRel['relevance'] > 0]"
   ]
  },
  {
   "cell_type": "code",
   "execution_count": 3,
   "metadata": {
    "collapsed": false
   },
   "outputs": [
    {
     "name": "stdout",
     "output_type": "stream",
     "text": [
      "1\n",
      "2\n",
      "3\n",
      "4\n",
      "5\n",
      "6\n",
      "7\n",
      "8\n",
      "9\n",
      "10\n"
     ]
    }
   ],
   "source": [
    "keywordsList = []\n",
    "\n",
    "# We have 10 different article for the current data so we will run a for loop 908 times\n",
    "\n",
    "for num in range(1, 11):\n",
    "    # This is how we will get the keywords from the same article\n",
    "    similarKeywords = entityRelNotZero[entityRelNotZero['article_id'] == num]\n",
    "    \n",
    "    print num\n",
    "\n",
    "    # create a link between all keyword from the same article\n",
    "    for x in range(0, similarKeywords.shape[0]):\n",
    "        for y in range(x+1, similarKeywords.shape[0]):\n",
    "            keywordsList.append({'source': similarKeywords.iloc[x]['entity_id'], 'target': similarKeywords.iloc[y]['entity_id'], 'value': int(similarKeywords.iloc[x]['relevance']*similarKeywords.iloc[y]['relevance']*100)})\n",
    "            "
   ]
  },
  {
   "cell_type": "code",
   "execution_count": 4,
   "metadata": {
    "collapsed": true
   },
   "outputs": [],
   "source": [
    "keywordsLinksCSV = open('data_files/keywordsLinksSmallX.csv', 'w')\n",
    "\n",
    "keywordsLinksCSV.write('\"source\";\"target\";\"value\"\\n')\n",
    "for item in keywordsList:\n",
    "    keywordsLinksCSV.write(str(item['source']) + ';' + str(item['target']) + ';' + str(item['value']) + '\\n')"
   ]
  },
  {
   "cell_type": "code",
   "execution_count": 5,
   "metadata": {
    "collapsed": false
   },
   "outputs": [
    {
     "name": "stdout",
     "output_type": "stream",
     "text": [
      "Index([u'source', u'target', u'value'], dtype='object')\n",
      "(3958, 3)\n"
     ]
    }
   ],
   "source": [
    "# read the csv for links between keywords\n",
    "linksBetweenKeywords = pd.read_csv('data_files/keywordsLinksSmallX.csv',sep=';')\n",
    "\n",
    "# print the column names and the dataframe dimensions\n",
    "print(linksBetweenKeywords.columns)\n",
    "print(linksBetweenKeywords.shape)"
   ]
  },
  {
   "cell_type": "code",
   "execution_count": 6,
   "metadata": {
    "collapsed": false,
    "scrolled": true
   },
   "outputs": [
    {
     "data": {
      "text/plain": [
       "source    1960.0\n",
       "target     549.0\n",
       "value       16.0\n",
       "Name: 367, dtype: float64"
      ]
     },
     "execution_count": 6,
     "metadata": {},
     "output_type": "execute_result"
    }
   ],
   "source": [
    "linksBetweenKeywords.iloc[367]"
   ]
  },
  {
   "cell_type": "code",
   "execution_count": 7,
   "metadata": {
    "collapsed": false
   },
   "outputs": [],
   "source": [
    "# create keyword nodes\n",
    "# different articles may include same keywords\n",
    "# we need to be sure that we don't repeat the same keyword as node\n",
    "# so we use sets to add keywords\n",
    "keywordNodes = set([])\n",
    "for x in range(0, entityRelNotZero.shape[0]):\n",
    "    keywordNodes.add(entityRelNotZero.iloc[x]['entity_id'])"
   ]
  },
  {
   "cell_type": "code",
   "execution_count": 8,
   "metadata": {
    "collapsed": false
   },
   "outputs": [],
   "source": [
    "# Create JSON file for nodes and links\n",
    "keywordsLinksJSON = open('data_files/keywordsLinksSmall.json', 'w')\n",
    "\n",
    "# Add nodes to json file\n",
    "keywordsLinksJSON.write('{\\n')\n",
    "keywordsLinksJSON.write('\"nodes\":[\\n')\n",
    "\n",
    "for node in keywordNodes:\n",
    "    keywordsLinksJSON.write('{\"id\": ' + str(node) + ', \"group\": ' + str(1) + '},\\n')\n",
    "\n",
    "keywordsLinksJSON.write('],\\n')\n",
    "keywordsLinksJSON.write('\"links\": [\\n')\n",
    "\n",
    "for item in keywordsList:\n",
    "    keywordsLinksJSON.write('{\"source\": ' + str(item['source']) + ', \"target\": ' + str(item['target']) + ', \"value\": ' + str(item['value']) + '},\\n')\n",
    "\n",
    "keywordsLinksJSON.write(']\\n')\n",
    "keywordsLinksJSON.write('}\\n')"
   ]
  },
  {
   "cell_type": "code",
   "execution_count": null,
   "metadata": {
    "collapsed": true
   },
   "outputs": [],
   "source": []
  }
 ],
 "metadata": {
  "kernelspec": {
   "display_name": "Python 2",
   "language": "python",
   "name": "python2"
  },
  "language_info": {
   "codemirror_mode": {
    "name": "ipython",
    "version": 2
   },
   "file_extension": ".py",
   "mimetype": "text/x-python",
   "name": "python",
   "nbconvert_exporter": "python",
   "pygments_lexer": "ipython2",
   "version": "2.7.13"
  }
 },
 "nbformat": 4,
 "nbformat_minor": 2
}
