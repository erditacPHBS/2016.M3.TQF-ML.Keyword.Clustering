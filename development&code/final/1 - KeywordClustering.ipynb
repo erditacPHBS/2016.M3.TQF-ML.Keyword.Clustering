{
 "cells": [
  {
   "cell_type": "code",
   "execution_count": 1,
   "metadata": {
    "collapsed": false
   },
   "outputs": [
    {
     "name": "stdout",
     "output_type": "stream",
     "text": [
      "Index([u'id', u'name', u'date_added', u'entity_type_id'], dtype='object')\n",
      "(72888, 4)\n"
     ]
    },
    {
     "data": {
      "text/html": [
       "<div>\n",
       "<table border=\"1\" class=\"dataframe\">\n",
       "  <thead>\n",
       "    <tr style=\"text-align: right;\">\n",
       "      <th></th>\n",
       "      <th>id</th>\n",
       "      <th>name</th>\n",
       "      <th>date_added</th>\n",
       "      <th>entity_type_id</th>\n",
       "    </tr>\n",
       "  </thead>\n",
       "  <tbody>\n",
       "    <tr>\n",
       "      <th>30172</th>\n",
       "      <td>30173</td>\n",
       "      <td>HKS Inc.</td>\n",
       "      <td>2017-04-25 05:50:44</td>\n",
       "      <td>1</td>\n",
       "    </tr>\n",
       "    <tr>\n",
       "      <th>13576</th>\n",
       "      <td>13577</td>\n",
       "      <td>Jay McInerney</td>\n",
       "      <td>2017-04-24 23:34:06</td>\n",
       "      <td>2</td>\n",
       "    </tr>\n",
       "    <tr>\n",
       "      <th>4365</th>\n",
       "      <td>4366</td>\n",
       "      <td>Jeff Kaufmann</td>\n",
       "      <td>2017-04-14 12:15:17</td>\n",
       "      <td>2</td>\n",
       "    </tr>\n",
       "    <tr>\n",
       "      <th>53577</th>\n",
       "      <td>53578</td>\n",
       "      <td>western Syrian Arab Republic</td>\n",
       "      <td>2017-04-25 22:32:36</td>\n",
       "      <td>28</td>\n",
       "    </tr>\n",
       "    <tr>\n",
       "      <th>43006</th>\n",
       "      <td>43007</td>\n",
       "      <td>California Republican Party</td>\n",
       "      <td>2017-04-25 10:18:19</td>\n",
       "      <td>8</td>\n",
       "    </tr>\n",
       "    <tr>\n",
       "      <th>57497</th>\n",
       "      <td>57498</td>\n",
       "      <td>Veterans’ Affairs Committee</td>\n",
       "      <td>2017-04-26 07:48:03</td>\n",
       "      <td>8</td>\n",
       "    </tr>\n",
       "    <tr>\n",
       "      <th>17328</th>\n",
       "      <td>17329</td>\n",
       "      <td>Misha Collins</td>\n",
       "      <td>2017-04-25 01:54:22</td>\n",
       "      <td>2</td>\n",
       "    </tr>\n",
       "    <tr>\n",
       "      <th>29022</th>\n",
       "      <td>29023</td>\n",
       "      <td>Issa Arnita</td>\n",
       "      <td>2017-04-25 05:28:03</td>\n",
       "      <td>2</td>\n",
       "    </tr>\n",
       "  </tbody>\n",
       "</table>\n",
       "</div>"
      ],
      "text/plain": [
       "          id                          name           date_added  \\\n",
       "30172  30173                      HKS Inc.  2017-04-25 05:50:44   \n",
       "13576  13577                 Jay McInerney  2017-04-24 23:34:06   \n",
       "4365    4366                 Jeff Kaufmann  2017-04-14 12:15:17   \n",
       "53577  53578  western Syrian Arab Republic  2017-04-25 22:32:36   \n",
       "43006  43007   California Republican Party  2017-04-25 10:18:19   \n",
       "57497  57498   Veterans’ Affairs Committee  2017-04-26 07:48:03   \n",
       "17328  17329                 Misha Collins  2017-04-25 01:54:22   \n",
       "29022  29023                   Issa Arnita  2017-04-25 05:28:03   \n",
       "\n",
       "       entity_type_id  \n",
       "30172               1  \n",
       "13576               2  \n",
       "4365                2  \n",
       "53577              28  \n",
       "43006               8  \n",
       "57497               8  \n",
       "17328               2  \n",
       "29022               2  "
      ]
     },
     "execution_count": 1,
     "metadata": {},
     "output_type": "execute_result"
    }
   ],
   "source": [
    "# import pandas library to read data from files and to create data frames\n",
    "import pandas as pd\n",
    "\n",
    "# read the entitiy data from csv file to a dataframe\n",
    "entities = pd.read_csv('data_files/entityFinal.csv',sep=';')\n",
    "\n",
    "# print the column names and the dataframe dimensions\n",
    "print(entities.columns)\n",
    "print(entities.shape)\n",
    "\n",
    "# print 8 samples from the data\n",
    "entities.sample(8)"
   ]
  },
  {
   "cell_type": "code",
   "execution_count": 2,
   "metadata": {
    "collapsed": false
   },
   "outputs": [
    {
     "name": "stdout",
     "output_type": "stream",
     "text": [
      "Index([u'id', u'relevance', u'date_added', u'article_id', u'entity_id'], dtype='object')\n",
      "(279719, 5)\n"
     ]
    },
    {
     "data": {
      "text/html": [
       "<div>\n",
       "<table border=\"1\" class=\"dataframe\">\n",
       "  <thead>\n",
       "    <tr style=\"text-align: right;\">\n",
       "      <th></th>\n",
       "      <th>id</th>\n",
       "      <th>relevance</th>\n",
       "      <th>date_added</th>\n",
       "      <th>article_id</th>\n",
       "      <th>entity_id</th>\n",
       "    </tr>\n",
       "  </thead>\n",
       "  <tbody>\n",
       "    <tr>\n",
       "      <th>165575</th>\n",
       "      <td>165576</td>\n",
       "      <td>0.8</td>\n",
       "      <td>2017-04-25 10:47:13</td>\n",
       "      <td>7343</td>\n",
       "      <td>268</td>\n",
       "    </tr>\n",
       "    <tr>\n",
       "      <th>95226</th>\n",
       "      <td>95227</td>\n",
       "      <td>0.2</td>\n",
       "      <td>2017-04-25 04:58:18</td>\n",
       "      <td>4292</td>\n",
       "      <td>2224</td>\n",
       "    </tr>\n",
       "    <tr>\n",
       "      <th>188227</th>\n",
       "      <td>188228</td>\n",
       "      <td>0.2</td>\n",
       "      <td>2017-04-25 16:18:08</td>\n",
       "      <td>8288</td>\n",
       "      <td>12315</td>\n",
       "    </tr>\n",
       "    <tr>\n",
       "      <th>221428</th>\n",
       "      <td>221429</td>\n",
       "      <td>0.2</td>\n",
       "      <td>2017-04-26 07:37:31</td>\n",
       "      <td>9814</td>\n",
       "      <td>427</td>\n",
       "    </tr>\n",
       "    <tr>\n",
       "      <th>85055</th>\n",
       "      <td>85056</td>\n",
       "      <td>0.2</td>\n",
       "      <td>2017-04-25 04:09:53</td>\n",
       "      <td>3862</td>\n",
       "      <td>24124</td>\n",
       "    </tr>\n",
       "    <tr>\n",
       "      <th>258857</th>\n",
       "      <td>258858</td>\n",
       "      <td>0.8</td>\n",
       "      <td>2017-04-27 06:49:38</td>\n",
       "      <td>11561</td>\n",
       "      <td>8</td>\n",
       "    </tr>\n",
       "    <tr>\n",
       "      <th>180748</th>\n",
       "      <td>180749</td>\n",
       "      <td>0.2</td>\n",
       "      <td>2017-04-25 15:01:22</td>\n",
       "      <td>8018</td>\n",
       "      <td>46888</td>\n",
       "    </tr>\n",
       "    <tr>\n",
       "      <th>65932</th>\n",
       "      <td>65933</td>\n",
       "      <td>0.2</td>\n",
       "      <td>2017-04-25 02:31:22</td>\n",
       "      <td>2967</td>\n",
       "      <td>266</td>\n",
       "    </tr>\n",
       "  </tbody>\n",
       "</table>\n",
       "</div>"
      ],
      "text/plain": [
       "            id  relevance           date_added  article_id  entity_id\n",
       "165575  165576        0.8  2017-04-25 10:47:13        7343        268\n",
       "95226    95227        0.2  2017-04-25 04:58:18        4292       2224\n",
       "188227  188228        0.2  2017-04-25 16:18:08        8288      12315\n",
       "221428  221429        0.2  2017-04-26 07:37:31        9814        427\n",
       "85055    85056        0.2  2017-04-25 04:09:53        3862      24124\n",
       "258857  258858        0.8  2017-04-27 06:49:38       11561          8\n",
       "180748  180749        0.2  2017-04-25 15:01:22        8018      46888\n",
       "65932    65933        0.2  2017-04-25 02:31:22        2967        266"
      ]
     },
     "execution_count": 2,
     "metadata": {},
     "output_type": "execute_result"
    }
   ],
   "source": [
    "# read the entitiy-article relationship data from csv file to a dataframe\n",
    "entityRel = pd.read_csv('data_files/entityRelFinal.csv',sep=';')\n",
    "\n",
    "# print the column names and the dataframe dimensions\n",
    "print(entityRel.columns)\n",
    "print(entityRel.shape)\n",
    "\n",
    "# print 8 samples from the data\n",
    "entityRel.sample(8)"
   ]
  },
  {
   "cell_type": "code",
   "execution_count": 3,
   "metadata": {
    "collapsed": false
   },
   "outputs": [
    {
     "name": "stdout",
     "output_type": "stream",
     "text": [
      "Index([u'id', u'relevance', u'date_added', u'article_id', u'entity_id'], dtype='object')\n",
      "(273058, 5)\n"
     ]
    }
   ],
   "source": [
    "# Get rid of the keyword-article relations that has 0 relevance.\n",
    "# We do that because 0 relevance means we're not sure at all whether that keyword has a relationship with the keyword or not\n",
    "\n",
    "entityRelNotZero = entityRel[entityRel['relevance'] > 0]\n",
    "\n",
    "# print the column names and the dataframe dimensions\n",
    "print(entityRelNotZero.columns)\n",
    "print(entityRelNotZero.shape)"
   ]
  },
  {
   "cell_type": "code",
   "execution_count": 4,
   "metadata": {
    "collapsed": false
   },
   "outputs": [
    {
     "data": {
      "text/html": [
       "<img src=\"http://i.imgur.com/BMDxwNW.png\">"
      ],
      "text/plain": [
       "<IPython.core.display.HTML object>"
      ]
     },
     "metadata": {},
     "output_type": "display_data"
    }
   ],
   "source": [
    "# There were many rows with zero relevance\n",
    "# 279719 - 273058 = 6661 relavance relations were 0\n",
    "\n",
    "# We have all the relationships between keywords and articles.\n",
    "# We need to create a 2D map of the keywords from these relations\n",
    "# If we can achieve creating a map, then we can easily cluster the keywords using K-means.\n",
    "\n",
    "# I decided to use a library called d3-force library.\n",
    "# It illustrates a physiscs rule from the links between points.\n",
    "# To use d3-force library I need to create a link-table between the keywords.\n",
    "# Keywords will be nodes in this table.\n",
    "\n",
    "# We need to create a json file similar to the following:\n",
    "from IPython.core.display import display, HTML\n",
    "display(HTML('<img src=\"http://i.imgur.com/BMDxwNW.png\">'))\n",
    "\n",
    "\n"
   ]
  },
  {
   "cell_type": "code",
   "execution_count": 5,
   "metadata": {
    "collapsed": false
   },
   "outputs": [],
   "source": [
    "# Let's start creating a json similar to this from our data\n",
    "# First we need to create a \"source to target\" link between keywords.\n",
    "# As I said before all the keywrods from one article will be linked.\n",
    "# I will take the first keyword from each article to start with\n",
    "# Then link the keywords in a recursive order."
   ]
  },
  {
   "cell_type": "markdown",
   "metadata": {},
   "source": [
    "# Testing code before creating the links"
   ]
  },
  {
   "cell_type": "code",
   "execution_count": 6,
   "metadata": {
    "collapsed": false,
    "scrolled": true
   },
   "outputs": [
    {
     "data": {
      "text/html": [
       "<div>\n",
       "<table border=\"1\" class=\"dataframe\">\n",
       "  <thead>\n",
       "    <tr style=\"text-align: right;\">\n",
       "      <th></th>\n",
       "      <th>id</th>\n",
       "      <th>relevance</th>\n",
       "      <th>date_added</th>\n",
       "      <th>article_id</th>\n",
       "      <th>entity_id</th>\n",
       "    </tr>\n",
       "  </thead>\n",
       "  <tbody>\n",
       "    <tr>\n",
       "      <th>14</th>\n",
       "      <td>15</td>\n",
       "      <td>0.2</td>\n",
       "      <td>2017-04-14 19:18:30</td>\n",
       "      <td>1</td>\n",
       "      <td>1025</td>\n",
       "    </tr>\n",
       "    <tr>\n",
       "      <th>8</th>\n",
       "      <td>9</td>\n",
       "      <td>0.2</td>\n",
       "      <td>2017-04-14 19:18:29</td>\n",
       "      <td>1</td>\n",
       "      <td>1019</td>\n",
       "    </tr>\n",
       "    <tr>\n",
       "      <th>7</th>\n",
       "      <td>8</td>\n",
       "      <td>0.2</td>\n",
       "      <td>2017-04-14 19:18:29</td>\n",
       "      <td>1</td>\n",
       "      <td>1018</td>\n",
       "    </tr>\n",
       "    <tr>\n",
       "      <th>9</th>\n",
       "      <td>10</td>\n",
       "      <td>0.2</td>\n",
       "      <td>2017-04-14 19:18:30</td>\n",
       "      <td>1</td>\n",
       "      <td>1020</td>\n",
       "    </tr>\n",
       "    <tr>\n",
       "      <th>10</th>\n",
       "      <td>11</td>\n",
       "      <td>0.2</td>\n",
       "      <td>2017-04-14 19:18:30</td>\n",
       "      <td>1</td>\n",
       "      <td>1021</td>\n",
       "    </tr>\n",
       "  </tbody>\n",
       "</table>\n",
       "</div>"
      ],
      "text/plain": [
       "    id  relevance           date_added  article_id  entity_id\n",
       "14  15        0.2  2017-04-14 19:18:30           1       1025\n",
       "8    9        0.2  2017-04-14 19:18:29           1       1019\n",
       "7    8        0.2  2017-04-14 19:18:29           1       1018\n",
       "9   10        0.2  2017-04-14 19:18:30           1       1020\n",
       "10  11        0.2  2017-04-14 19:18:30           1       1021"
      ]
     },
     "execution_count": 6,
     "metadata": {},
     "output_type": "execute_result"
    }
   ],
   "source": [
    "# This is how we will get the keywords from the same article\n",
    "similarKeywords = entityRel[entityRel['article_id'] == 1]\n",
    "similarKeywords.sample(5)"
   ]
  },
  {
   "cell_type": "code",
   "execution_count": 13,
   "metadata": {
    "collapsed": false
   },
   "outputs": [
    {
     "name": "stdout",
     "output_type": "stream",
     "text": [
      "15\n"
     ]
    }
   ],
   "source": [
    "# Then we will create a source and destination table from the similar keywords.\n",
    "\n",
    "print similarKeywords.shape[0]"
   ]
  },
  {
   "cell_type": "code",
   "execution_count": 21,
   "metadata": {
    "collapsed": false
   },
   "outputs": [
    {
     "name": "stdout",
     "output_type": "stream",
     "text": [
      "[{'source': 1013, 'target': 1014, 'value': 4}, {'source': 1013, 'target': 1015, 'value': 4}]\n"
     ]
    }
   ],
   "source": [
    "# I will create list of dictionaries, this way will be easier to create a json file\n",
    "# let's test it first\n",
    "# I will choose a random keyword from one article and connect it to all other keywords from the same article\n",
    "# So our \"source\" will be the randomly choosen keyword\n",
    "# and the \"target\" will be other keywords in the same article\n",
    "\n",
    "# For the \"value\" I decided to multiply target and source keywords' relevances.\n",
    "# By the way \"value\" represents the relationship strength between two keywords.\n",
    "keywordsList = []\n",
    "keywordsList.append({'source': entityRelNotZero.iloc[0]['entity_id'], 'target': entityRelNotZero.iloc[1]['entity_id'], 'value': int(entityRelNotZero.iloc[0]['relevance']*entityRelNotZero.iloc[1]['relevance']*100)})\n",
    "keywordsList.append({'source': entityRelNotZero.iloc[0]['entity_id'], 'target': entityRelNotZero.iloc[2]['entity_id'], 'value': int(entityRelNotZero.iloc[0]['relevance']*entityRelNotZero.iloc[2]['relevance']*100)})\n",
    "\n",
    "print keywordsList"
   ]
  },
  {
   "cell_type": "code",
   "execution_count": 22,
   "metadata": {
    "collapsed": true
   },
   "outputs": [],
   "source": [
    "# This result looks more like what I want for the json file \"nodes and links\"\n",
    "# So I will use dictionaries list to create the links"
   ]
  },
  {
   "cell_type": "markdown",
   "metadata": {},
   "source": [
    "# Actual Code for the link between keyowords"
   ]
  },
  {
   "cell_type": "code",
   "execution_count": 23,
   "metadata": {
    "collapsed": true
   },
   "outputs": [],
   "source": [
    "keywordsList = []\n",
    "\n",
    "# We have 12297 different article for the current data so we will run a for loop 908 times\n",
    "\n",
    "for num in range(1, 12298):\n",
    "    # This is how we will get the keywords from the same article\n",
    "    similarKeywords = entityRelNotZero[entityRelNotZero['article_id'] == num]\n",
    "\n",
    "    # create a link between all keyword from the same article\n",
    "    for x in range(1, similarKeywords.shape[0]):\n",
    "        keywordsList.append({'source': similarKeywords.iloc[0]['entity_id'], 'target': similarKeywords.iloc[x]['entity_id'], 'value': int(similarKeywords.iloc[0]['relevance']*similarKeywords.iloc[x]['relevance']*100)})\n",
    "            "
   ]
  },
  {
   "cell_type": "code",
   "execution_count": 24,
   "metadata": {
    "collapsed": true
   },
   "outputs": [],
   "source": [
    "# The code above is runned for around 6 minutes.\n",
    "# Just a note"
   ]
  },
  {
   "cell_type": "code",
   "execution_count": 25,
   "metadata": {
    "collapsed": true
   },
   "outputs": [],
   "source": [
    "# write all the relationships to a csv file\n",
    "# we will use this file later on to create dataframe\n",
    "keywordsLinksCSV = open('data_files/keywordsLinksFinal.csv', 'w')\n",
    "\n",
    "keywordsLinksCSV.write('\"source\";\"target\";\"value\"\\n')\n",
    "for item in keywordsList:\n",
    "    keywordsLinksCSV.write(str(item['source']) + ';' + str(item['target']) + ';' + str(item['value']) + '\\n')"
   ]
  },
  {
   "cell_type": "code",
   "execution_count": 26,
   "metadata": {
    "collapsed": false
   },
   "outputs": [
    {
     "name": "stdout",
     "output_type": "stream",
     "text": [
      "Index([u'source', u'target', u'value'], dtype='object')\n",
      "(260716, 3)\n"
     ]
    }
   ],
   "source": [
    "# read the csv for links between keywords\n",
    "linksBetweenKeywords = pd.read_csv('data_files/keywordsLinksFinal.csv',sep=';')\n",
    "\n",
    "# print the column names and the dataframe dimensions\n",
    "print(linksBetweenKeywords.columns)\n",
    "print(linksBetweenKeywords.shape)"
   ]
  },
  {
   "cell_type": "code",
   "execution_count": 27,
   "metadata": {
    "collapsed": true
   },
   "outputs": [],
   "source": [
    "# create keyword nodes\n",
    "# different articles may include same keywords\n",
    "# we need to be sure that we don't repeat the same keyword as node\n",
    "# so we use sets to add keywords\n",
    "keywordNodes = set([])\n",
    "for x in range(0, entityRelNotZero.shape[0]):\n",
    "    keywordNodes.add(entityRelNotZero.iloc[x]['entity_id'])"
   ]
  },
  {
   "cell_type": "code",
   "execution_count": 29,
   "metadata": {
    "collapsed": true
   },
   "outputs": [],
   "source": [
    "# Create JSON file for nodes and links\n",
    "keywordsLinksJSON = open('data_files/keywordsLinksFinal.json', 'w')\n",
    "\n",
    "# Add nodes to json file\n",
    "keywordsLinksJSON.write('{\\n')\n",
    "keywordsLinksJSON.write('\"nodes\":[\\n')\n",
    "\n",
    "for node in keywordNodes:\n",
    "    keywordsLinksJSON.write('{\"id\": ' + str(node) + ', \"group\": ' + str(1) + '},\\n')\n",
    "\n",
    "keywordsLinksJSON.write('],\\n')\n",
    "keywordsLinksJSON.write('\"links\": [\\n')\n",
    "\n",
    "for item in keywordsList:\n",
    "    keywordsLinksJSON.write('{\"source\": ' + str(item['source']) + ', \"target\": ' + str(item['target']) + ', \"value\": ' + str(item['value']) + '},\\n')\n",
    "\n",
    "keywordsLinksJSON.write(']\\n')\n",
    "keywordsLinksJSON.write('}\\n')"
   ]
  },
  {
   "cell_type": "code",
   "execution_count": 30,
   "metadata": {
    "collapsed": true
   },
   "outputs": [],
   "source": [
    "# We are done here.\n",
    "# The next step will be mapping the keywords on a plane. 2 dimentions--\n",
    "# We will use 3d-force graph algorithm"
   ]
  },
  {
   "cell_type": "markdown",
   "metadata": {},
   "source": [
    "### Check the file called \"2 - After Mapping.ipynb\" to follow the next step."
   ]
  }
 ],
 "metadata": {
  "kernelspec": {
   "display_name": "Python 2",
   "language": "python",
   "name": "python2"
  },
  "language_info": {
   "codemirror_mode": {
    "name": "ipython",
    "version": 2
   },
   "file_extension": ".py",
   "mimetype": "text/x-python",
   "name": "python",
   "nbconvert_exporter": "python",
   "pygments_lexer": "ipython2",
   "version": "2.7.13"
  }
 },
 "nbformat": 4,
 "nbformat_minor": 2
}
