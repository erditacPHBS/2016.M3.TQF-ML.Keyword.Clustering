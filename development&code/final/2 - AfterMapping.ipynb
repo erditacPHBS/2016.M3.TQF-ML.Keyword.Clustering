{
 "cells": [
  {
   "cell_type": "code",
   "execution_count": 1,
   "metadata": {
    "collapsed": false,
    "scrolled": true
   },
   "outputs": [
    {
     "name": "stdout",
     "output_type": "stream",
     "text": [
      "Index([u'id', u'x', u'y'], dtype='object')\n",
      "(72191, 3)\n"
     ]
    }
   ],
   "source": [
    "# import pandas library to read data from files and to create data frames\n",
    "import pandas as pd\n",
    "# import plot library\n",
    "import matplotlib.pyplot as plt\n",
    "\n",
    "from scipy import cluster\n",
    "\n",
    "# import the PCA model.\n",
    "from sklearn.decomposition import PCA\n",
    "\n",
    "# Import the kmeans clustering model.\n",
    "from sklearn.cluster import KMeans\n",
    "\n",
    "# We mapped the data using force-directed graph\n",
    "# Here is a link to an example: https://bl.ocks.org/mbostock/2675ff61ea5e063ede2b5d63c08020c7\n",
    "# I saved the x and y axis of each node to a csv file after the mapping\n",
    "# Nodes here are keywords.\n",
    "\n",
    "# read the x,y locations of the keywords from csv file to a dataframe\n",
    "locs = pd.read_csv('data_files/afterMappingFinal.csv',sep=';')\n",
    "print(locs.columns)\n",
    "print(locs.shape)"
   ]
  },
  {
   "cell_type": "code",
   "execution_count": 3,
   "metadata": {
    "collapsed": false
   },
   "outputs": [],
   "source": [
    "# Let's plot the keywords to see visually how they are clustered\n",
    "# I made many plotting trials to find the best way to show how these keywrods are mapped.\n",
    "\n",
    "# You can find my plotting trials in the file called: \"PlotLargeData.ipynb\"\n",
    "# Finally I found the best way to plot. But the file is too large.\n",
    "# I advise you to check it on your browser after you save the image\n",
    "\n",
    "fig = plt.figure(figsize=(100,100))\n",
    "ax = fig.add_subplot(111)\n",
    "ax.scatter(locs.iloc[:,1:2], locs.iloc[:,2:3],c='black', marker='o', s=1)\n",
    "fig.savefig('plots/nicePlot.png', dpi = 100)"
   ]
  },
  {
   "cell_type": "code",
   "execution_count": 5,
   "metadata": {
    "collapsed": false
   },
   "outputs": [],
   "source": [
    "# In this point I should decide how many clusters I should create.\n",
    "# From my trials in other files I realized that using any traditional method\n",
    "# to decide on the number of clusters will not work in my case because\n",
    "# keywords are not perfectly clustered. You can check the plot to see.\n",
    "\n",
    "# Hence I decided to set the number of clusters intuitively.\n",
    "# I found out that more than 20 keywords cannot be completely related so\n",
    "# I don't want more than 20 keywords in a cluster\n",
    "# As a result I decided to create enough clusters so that the average number of\n",
    "# keywords in a cluster will be around 15\n",
    "# We have 72191 keywords.\n",
    "# For 15 keyowrds in each cluster we need around 72191 / 15 ~= 4813"
   ]
  },
  {
   "cell_type": "code",
   "execution_count": 6,
   "metadata": {
    "collapsed": false
   },
   "outputs": [],
   "source": [
    "# We will create 4813 clusters...\n",
    "\n",
    "km = KMeans(n_clusters=4813,\n",
    "            init='random', \n",
    "            n_init=10, \n",
    "            max_iter=300,\n",
    "            tol=1e-04,\n",
    "            random_state=0)\n",
    "y_km = km.fit_predict(locs.iloc[:,1:3])\n",
    "\n",
    "# Get the cluster assignments.\n",
    "labels = km.labels_"
   ]
  },
  {
   "cell_type": "code",
   "execution_count": 14,
   "metadata": {
    "collapsed": true
   },
   "outputs": [],
   "source": [
    "# The computation for the clustering took a few hours.\n",
    "# Just a note."
   ]
  },
  {
   "cell_type": "code",
   "execution_count": 7,
   "metadata": {
    "collapsed": true
   },
   "outputs": [],
   "source": [
    "# Let's plot the result.\n",
    "fig = plt.figure(figsize=(100,100))\n",
    "ax = fig.add_subplot(111)\n",
    "ax.scatter(locs.iloc[:,1:2], locs.iloc[:,2:3],c=labels)\n",
    "fig.savefig('plots/largeClustered2.png', dpi = 100)"
   ]
  },
  {
   "cell_type": "code",
   "execution_count": 8,
   "metadata": {
    "collapsed": false
   },
   "outputs": [
    {
     "name": "stdout",
     "output_type": "stream",
     "text": [
      "Index([u'id', u'x', u'y'], dtype='object')\n",
      "(14, 3)\n"
     ]
    }
   ],
   "source": [
    "# I want to check the keywords themselves from a cluster\n",
    "# to see if it's meaningful to put them in the same cluster\n",
    "# Let's get keyowords cluster number 13 for example\n",
    "# Let me test a code first\n",
    "locsSub = locs[y_km[:] == 13]\n",
    "print(locsSub.columns)\n",
    "print(locsSub.shape)"
   ]
  },
  {
   "cell_type": "code",
   "execution_count": 10,
   "metadata": {
    "collapsed": false
   },
   "outputs": [
    {
     "name": "stdout",
     "output_type": "stream",
     "text": [
      "Index([u'id', u'name', u'date_added', u'entity_type_id'], dtype='object')\n",
      "(72888, 4)\n"
     ]
    }
   ],
   "source": [
    "# According to the result we have 14 keywords in cluster #13\n",
    "# Variable locsSub have their ids\n",
    "# let's check them from our list\n",
    "# read the x,y locations of the keywords from csv file to a dataframe\n",
    "entities = pd.read_csv('data_files/entityFinal.csv',sep=';')\n",
    "print(entities.columns)\n",
    "print(entities.shape)"
   ]
  },
  {
   "cell_type": "code",
   "execution_count": 12,
   "metadata": {
    "collapsed": false
   },
   "outputs": [
    {
     "name": "stdout",
     "output_type": "stream",
     "text": [
      "Doug McGahn\n",
      "Will Laska\n",
      "Technology Directorate\n",
      "mass-transit systems\n",
      "commercial producer\n",
      "National Association of Truck Stop Operators\n",
      "Truck Stop Operators\n",
      "natural gas pipeline industry\n",
      "Regulatory Policy Officer\n",
      "federal government authority\n",
      "North Dakota Petroleum Council\n",
      "Sunoco Logistics Partners\n",
      "Eric Danziger\n",
      "hotel business\n"
     ]
    }
   ],
   "source": [
    "# We load all the keywords we have now let's print them according to the ids we have in loc13\n",
    "for x in range(0, locsSub.shape[0]):\n",
    "    #print entities[entities['id']==locs13.iloc[x]['id']]['name']\n",
    "    print entities[entities['id']==locsSub.iloc[x]['id']]['name'].iloc[0]"
   ]
  },
  {
   "cell_type": "code",
   "execution_count": 13,
   "metadata": {
    "collapsed": false
   },
   "outputs": [
    {
     "name": "stdout",
     "output_type": "stream",
     "text": [
      "London\n",
      "Antarctic\n",
      "The Conversation\n",
      "the 2013 Boston Marathon\n",
      "Faye Dunaway\n",
      "South America\n",
      "John\n",
      "Federal Defenders Office in New York\n",
      "additional counsel\n",
      "Donner Party\n",
      "Sympathy for the Devil\n",
      "Winchester\n",
      "Director winner\n",
      "first Treasury secretary\n",
      "Queensland\n",
      "coal-mining\n",
      "Kayla\n",
      "Nikki Mendicino\n",
      "Paul\n",
      "Revere\n",
      "Artie M. Muller\n",
      "WOW!\n"
     ]
    }
   ],
   "source": [
    "# You can check the keywords whether they have a connection\n",
    "# If you want to check any cluster you can just change the number below.\n",
    "# Keep in mind there are 4813 clusters\n",
    "locsSub = locs[y_km[:] == 569]\n",
    "for x in range(0, locsSub.shape[0]):\n",
    "    #print entities[entities['id']==locs13.iloc[x]['id']]['name']\n",
    "    print entities[entities['id']==locsSub.iloc[x]['id']]['name'].iloc[0]"
   ]
  },
  {
   "cell_type": "code",
   "execution_count": null,
   "metadata": {
    "collapsed": true
   },
   "outputs": [],
   "source": []
  }
 ],
 "metadata": {
  "kernelspec": {
   "display_name": "Python 2",
   "language": "python",
   "name": "python2"
  },
  "language_info": {
   "codemirror_mode": {
    "name": "ipython",
    "version": 2
   },
   "file_extension": ".py",
   "mimetype": "text/x-python",
   "name": "python",
   "nbconvert_exporter": "python",
   "pygments_lexer": "ipython2",
   "version": "2.7.13"
  }
 },
 "nbformat": 4,
 "nbformat_minor": 2
}
