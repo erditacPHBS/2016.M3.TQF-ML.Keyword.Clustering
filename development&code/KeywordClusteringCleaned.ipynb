{
 "cells": [
  {
   "cell_type": "code",
   "execution_count": 16,
   "metadata": {
    "collapsed": false
   },
   "outputs": [
    {
     "name": "stdout",
     "output_type": "stream",
     "text": [
      "Index([u'id', u'relevance', u'date_added', u'article_id', u'entity_id'], dtype='object')\n",
      "(19377, 5)\n"
     ]
    }
   ],
   "source": [
    "# import pandas library to read data from files and to create data frames\n",
    "import pandas as pd\n",
    "\n",
    "# read the entitiy-article relationship data from csv file to a dataframe\n",
    "entityRel = pd.read_csv('data_files/entityRel.csv',sep=';')\n",
    "\n",
    "# print the column names and the dataframe dimensions\n",
    "print(entityRel.columns)\n",
    "print(entityRel.shape)"
   ]
  },
  {
   "cell_type": "code",
   "execution_count": 17,
   "metadata": {
    "collapsed": true
   },
   "outputs": [],
   "source": [
    "# Get rid of the keyword-article relations that has 0 relevance.\n",
    "# We do that because 0 relevance means we're not sure at all whether that keyword has a relationship with the keyword or not\n",
    "\n",
    "entityRelNotZero = entityRel[entityRel['relevance'] > 0]"
   ]
  },
  {
   "cell_type": "code",
   "execution_count": 27,
   "metadata": {
    "collapsed": false
   },
   "outputs": [],
   "source": [
    "keywordsList = []\n",
    "\n",
    "# We have 908 different article for the current data so we will run a for loop 908 times\n",
    "\n",
    "for num in range(1, 909):\n",
    "    # This is how we will get the keywords from the same article\n",
    "    similarKeywords = entityRelNotZero[entityRelNotZero['article_id'] == num]\n",
    "\n",
    "    # create a link between all keyword from the same article\n",
    "    for x in range(1, similarKeywords.shape[0]):\n",
    "        keywordsList.append({'source': similarKeywords.iloc[0]['entity_id'], 'target': similarKeywords.iloc[x]['entity_id'], 'value': int(similarKeywords.iloc[0]['relevance']*similarKeywords.iloc[x]['relevance']*100)})\n",
    "            "
   ]
  },
  {
   "cell_type": "code",
   "execution_count": 28,
   "metadata": {
    "collapsed": true
   },
   "outputs": [],
   "source": [
    "keywordsLinksCSV = open('data_files/keywordsLinksSmallLarge.csv', 'w')\n",
    "\n",
    "keywordsLinksCSV.write('\"source\";\"target\";\"value\"\\n')\n",
    "for item in keywordsList:\n",
    "    keywordsLinksCSV.write(str(item['source']) + ';' + str(item['target']) + ';' + str(item['value']) + '\\n')"
   ]
  },
  {
   "cell_type": "code",
   "execution_count": 29,
   "metadata": {
    "collapsed": false,
    "scrolled": true
   },
   "outputs": [
    {
     "name": "stdout",
     "output_type": "stream",
     "text": [
      "Index([u'source', u'target', u'value'], dtype='object')\n",
      "(17967, 3)\n"
     ]
    }
   ],
   "source": [
    "# read the csv for links between keywords\n",
    "linksBetweenKeywords = pd.read_csv('data_files/keywordsLinksSmallLarge.csv',sep=';')\n",
    "\n",
    "# print the column names and the dataframe dimensions\n",
    "print(linksBetweenKeywords.columns)\n",
    "print(linksBetweenKeywords.shape)"
   ]
  },
  {
   "cell_type": "code",
   "execution_count": 30,
   "metadata": {
    "collapsed": false
   },
   "outputs": [],
   "source": [
    "# create keyword nodes\n",
    "# different articles may include same keywords\n",
    "# we need to be sure that we don't repeat the same keyword as node\n",
    "# so we use sets to add keywords\n",
    "keywordNodes = set([])\n",
    "for x in range(0, entityRelNotZero.shape[0]):\n",
    "    keywordNodes.add(entityRelNotZero.iloc[x]['entity_id'])"
   ]
  },
  {
   "cell_type": "code",
   "execution_count": 32,
   "metadata": {
    "collapsed": false
   },
   "outputs": [],
   "source": [
    "# Create JSON file for nodes and links\n",
    "keywordsLinksJSON = open('data_files/keywordsLinksSmallLarge.json', 'w')\n",
    "\n",
    "# Add nodes to json file\n",
    "keywordsLinksJSON.write('{\\n')\n",
    "keywordsLinksJSON.write('\"nodes\":[\\n')\n",
    "\n",
    "for node in keywordNodes:\n",
    "    keywordsLinksJSON.write('{\"id\": ' + str(node) + ', \"group\": ' + str(1) + '},\\n')\n",
    "\n",
    "keywordsLinksJSON.write('],\\n')\n",
    "keywordsLinksJSON.write('\"links\": [\\n')\n",
    "\n",
    "for item in keywordsList:\n",
    "    keywordsLinksJSON.write('{\"source\": ' + str(item['source']) + ', \"target\": ' + str(item['target']) + ', \"value\": ' + str(item['value']) + '},\\n')\n",
    "\n",
    "keywordsLinksJSON.write(']\\n')\n",
    "keywordsLinksJSON.write('}\\n')"
   ]
  },
  {
   "cell_type": "code",
   "execution_count": null,
   "metadata": {
    "collapsed": true
   },
   "outputs": [],
   "source": []
  }
 ],
 "metadata": {
  "kernelspec": {
   "display_name": "Python 2",
   "language": "python",
   "name": "python2"
  },
  "language_info": {
   "codemirror_mode": {
    "name": "ipython",
    "version": 2
   },
   "file_extension": ".py",
   "mimetype": "text/x-python",
   "name": "python",
   "nbconvert_exporter": "python",
   "pygments_lexer": "ipython2",
   "version": "2.7.13"
  }
 },
 "nbformat": 4,
 "nbformat_minor": 2
}
