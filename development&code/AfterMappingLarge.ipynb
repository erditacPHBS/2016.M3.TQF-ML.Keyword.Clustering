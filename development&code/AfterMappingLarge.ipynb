{
 "cells": [
  {
   "cell_type": "code",
   "execution_count": 1,
   "metadata": {
    "collapsed": false,
    "scrolled": true
   },
   "outputs": [
    {
     "name": "stdout",
     "output_type": "stream",
     "text": [
      "Index([u'id', u'x', u'y'], dtype='object')\n",
      "(6753, 3)\n"
     ]
    }
   ],
   "source": [
    "# import pandas library to read data from files and to create data frames\n",
    "import pandas as pd\n",
    "# import plot library\n",
    "import matplotlib.pyplot as plt\n",
    "\n",
    "from scipy import cluster\n",
    "\n",
    "# import the PCA model.\n",
    "from sklearn.decomposition import PCA\n",
    "\n",
    "# Import the kmeans clustering model.\n",
    "from sklearn.cluster import KMeans\n",
    "\n",
    "# We mapped the data using force-directed graph\n",
    "# Here is a link to an example: xxxxxxx\n",
    "# I saved the x and y axis of each node to a csv file after the mapping\n",
    "# Nodes here are keywords.\n",
    "\n",
    "# read the x,y locations of the keywords from csv file to a dataframe\n",
    "locs = pd.read_csv('data_files/afterMappingLarge.csv',sep=';')\n",
    "print(locs.columns)\n",
    "print(locs.shape)"
   ]
  },
  {
   "cell_type": "code",
   "execution_count": 5,
   "metadata": {
    "collapsed": false
   },
   "outputs": [],
   "source": [
    "# Let's plot the keywords to see visually how they are clustered\n",
    "# I made many plotting trials to find the best way to show how these keywrods are mapped.\n",
    "\n",
    "# You can find my plotting trials in the file called: \"PlotLargeData.ipynb\"\n",
    "# Finally I found the best way to plot. But the file is too large.\n",
    "# I advise you to check it on your browser after you save the image\n",
    "\n",
    "fig = plt.figure(figsize=(80,80))\n",
    "ax = fig.add_subplot(111)\n",
    "ax.scatter(locs.iloc[:,1:2], locs.iloc[:,2:3],c='black', marker='o', s=1)\n",
    "fig.savefig('plots/nicePlot.png', dpi = 100)"
   ]
  },
  {
   "cell_type": "markdown",
   "metadata": {},
   "source": [
    "After plotting the keywords I realize some of them are so scattered that\n",
    "it won't make sense to cluster them.\n",
    "They are taking from articles that doesn't have much connection with other articles.\n",
    "So I decided to cut them out.\n",
    "\n",
    "You can check the image \"plots/nicePlotCutByHand.png\" to see which part I will take into considiration\n",
    "\n",
    "I made trials to cut the data into the rectagle I draw in the image \"plots/nicePlotCutByHand.png\"\n",
    "You can check my trials in the the file \"PlotLargeData.ipynb\" from line 44 to line 48\n",
    "\n",
    "As a resutl I concluded the following cut to be the best"
   ]
  },
  {
   "cell_type": "code",
   "execution_count": 6,
   "metadata": {
    "collapsed": false
   },
   "outputs": [
    {
     "name": "stdout",
     "output_type": "stream",
     "text": [
      "Index([u'id', u'x', u'y'], dtype='object')\n",
      "(5751, 3)\n"
     ]
    }
   ],
   "source": [
    "# Let's cut the keywords that are far away from the center\n",
    "# They won't make any sense to cluster\n",
    "locs = locs[locs['y'] > -1200]\n",
    "locs = locs[locs['y'] < 1200]\n",
    "locs = locs[locs['x'] > -1200]\n",
    "locs = locs[locs['x'] < 1200]\n",
    "print(locs.columns)\n",
    "print(locs.shape)"
   ]
  },
  {
   "cell_type": "code",
   "execution_count": 7,
   "metadata": {
    "collapsed": true
   },
   "outputs": [],
   "source": [
    "# This is to plot the data, you can check the image and see the cutted version.\n",
    "fig = plt.figure(figsize=(80,80))\n",
    "ax = fig.add_subplot(111)\n",
    "ax.scatter(locs.iloc[:,1:2], locs.iloc[:,2:3],c='black', marker='o', s=4)\n",
    "fig.savefig('plots/largeDataCutted.png', dpi = 100)"
   ]
  },
  {
   "cell_type": "code",
   "execution_count": 9,
   "metadata": {
    "collapsed": false
   },
   "outputs": [
    {
     "data": {
      "image/png": "[encoded data removed]",
      "text/plain": [
       "<matplotlib.figure.Figure at 0xd69aa58>"
      ]
     },
     "metadata": {},
     "output_type": "display_data"
    }
   ],
   "source": [
    "# Let's decide how many clusters are we going to create\n",
    "# I will use \"the elbow method\"\n",
    "# plot variance for each value for 'k' between 1,10 -- reason is that we visually guessed there is no more than 10 clusters\n",
    "\n",
    "distortions = []\n",
    "for i in range(10, 50):\n",
    "    km = KMeans(n_clusters=i,\n",
    "                init='k-means++',\n",
    "                n_init=10,\n",
    "                max_iter=300,\n",
    "                random_state=0)\n",
    "    km.fit(locs.iloc[:,1:3])\n",
    "    distortions.append(km.inertia_)\n",
    "plt.plot(range(10,50), distortions, marker='o')\n",
    "plt.xlabel('Number of clusters')\n",
    "plt.ylabel('Distortion')\n",
    "plt.show()"
   ]
  },
  {
   "cell_type": "code",
   "execution_count": 10,
   "metadata": {
    "collapsed": false
   },
   "outputs": [
    {
     "data": {
      "image/png": "[encoded data removed]",
      "text/plain": [
       "<matplotlib.figure.Figure at 0xd7d1ef0>"
      ]
     },
     "metadata": {},
     "output_type": "display_data"
    }
   ],
   "source": [
    "# Let's decide how many clusters are we going to create\n",
    "# I will use \"the elbow method\"\n",
    "# plot variance for each value for 'k' between 1,10 -- reason is that we visually guessed there is no more than 10 clusters\n",
    "\n",
    "distortions = []\n",
    "for i in range(50, 100):\n",
    "    km = KMeans(n_clusters=i,\n",
    "                init='k-means++',\n",
    "                n_init=10,\n",
    "                max_iter=300,\n",
    "                random_state=0)\n",
    "    km.fit(locs.iloc[:,1:3])\n",
    "    distortions.append(km.inertia_)\n",
    "plt.plot(range(50,100), distortions, marker='o')\n",
    "plt.xlabel('Number of clusters')\n",
    "plt.ylabel('Distortion')\n",
    "plt.show()"
   ]
  },
  {
   "cell_type": "code",
   "execution_count": 11,
   "metadata": {
    "collapsed": false
   },
   "outputs": [
    {
     "data": {
      "image/png": "[encoded data removed]",
      "text/plain": [
       "<matplotlib.figure.Figure at 0xdd9eac8>"
      ]
     },
     "metadata": {},
     "output_type": "display_data"
    }
   ],
   "source": [
    "# Let's decide how many clusters are we going to create\n",
    "# I will use \"the elbow method\"\n",
    "# plot variance for each value for 'k' between 1,10 -- reason is that we visually guessed there is no more than 10 clusters\n",
    "\n",
    "distortions = []\n",
    "for i in range(100, 200):\n",
    "    km = KMeans(n_clusters=i,\n",
    "                init='k-means++',\n",
    "                n_init=10,\n",
    "                max_iter=300,\n",
    "                random_state=0)\n",
    "    km.fit(locs.iloc[:,1:3])\n",
    "    distortions.append(km.inertia_)\n",
    "plt.plot(range(100,200), distortions, marker='o')\n",
    "plt.xlabel('Number of clusters')\n",
    "plt.ylabel('Distortion')\n",
    "plt.show()"
   ]
  },
  {
   "cell_type": "code",
   "execution_count": 12,
   "metadata": {
    "collapsed": false
   },
   "outputs": [
    {
     "data": {
      "image/png": "[encoded data removed]",
      "text/plain": [
       "<matplotlib.figure.Figure at 0xe02d128>"
      ]
     },
     "metadata": {},
     "output_type": "display_data"
    }
   ],
   "source": [
    "# Let's decide how many clusters are we going to create\n",
    "# I will use \"the elbow method\"\n",
    "# plot variance for each value for 'k' between 1,10 -- reason is that we visually guessed there is no more than 10 clusters\n",
    "\n",
    "distortions = []\n",
    "for i in range(200, 300):\n",
    "    km = KMeans(n_clusters=i,\n",
    "                init='k-means++',\n",
    "                n_init=10,\n",
    "                max_iter=300,\n",
    "                random_state=0)\n",
    "    km.fit(locs.iloc[:,1:3])\n",
    "    distortions.append(km.inertia_)\n",
    "plt.plot(range(200,300), distortions, marker='o')\n",
    "plt.xlabel('Number of clusters')\n",
    "plt.ylabel('Distortion')\n",
    "plt.show()"
   ]
  },
  {
   "cell_type": "code",
   "execution_count": 13,
   "metadata": {
    "collapsed": false
   },
   "outputs": [
    {
     "data": {
      "image/png": "[encoded data removed]",
      "text/plain": [
       "<matplotlib.figure.Figure at 0xe06b780>"
      ]
     },
     "metadata": {},
     "output_type": "display_data"
    }
   ],
   "source": [
    "# Let's decide how many clusters are we going to create\n",
    "# I will use \"the elbow method\"\n",
    "# plot variance for each value for 'k' between 1,10 -- reason is that we visually guessed there is no more than 10 clusters\n",
    "\n",
    "distortions = []\n",
    "for i in range(300, 400):\n",
    "    km = KMeans(n_clusters=i,\n",
    "                init='k-means++',\n",
    "                n_init=10,\n",
    "                max_iter=300,\n",
    "                random_state=0)\n",
    "    km.fit(locs.iloc[:,1:3])\n",
    "    distortions.append(km.inertia_)\n",
    "plt.plot(range(300,400), distortions, marker='o')\n",
    "plt.xlabel('Number of clusters')\n",
    "plt.ylabel('Distortion')\n",
    "plt.show()"
   ]
  },
  {
   "cell_type": "code",
   "execution_count": 14,
   "metadata": {
    "collapsed": false
   },
   "outputs": [
    {
     "data": {
      "image/png": "[encoded data removed]",
      "text/plain": [
       "<matplotlib.figure.Figure at 0xe147390>"
      ]
     },
     "metadata": {},
     "output_type": "display_data"
    }
   ],
   "source": [
    "# Let's decide how many clusters are we going to create\n",
    "# I will use \"the elbow method\"\n",
    "# plot variance for each value for 'k' between 1,10 -- reason is that we visually guessed there is no more than 10 clusters\n",
    "\n",
    "distortions = []\n",
    "for i in range(400, 500):\n",
    "    km = KMeans(n_clusters=i,\n",
    "                init='k-means++',\n",
    "                n_init=10,\n",
    "                max_iter=300,\n",
    "                random_state=0)\n",
    "    km.fit(locs.iloc[:,1:3])\n",
    "    distortions.append(km.inertia_)\n",
    "plt.plot(range(400,500), distortions, marker='o')\n",
    "plt.xlabel('Number of clusters')\n",
    "plt.ylabel('Distortion')\n",
    "plt.show()"
   ]
  },
  {
   "cell_type": "code",
   "execution_count": 15,
   "metadata": {
    "collapsed": false
   },
   "outputs": [
    {
     "data": {
      "image/png": "[encoded data removed]",
      "text/plain": [
       "<matplotlib.figure.Figure at 0xdcda1d0>"
      ]
     },
     "metadata": {},
     "output_type": "display_data"
    }
   ],
   "source": [
    "# Let's decide how many clusters are we going to create\n",
    "# I will use \"the elbow method\"\n",
    "# plot variance for each value for 'k' between 1,10 -- reason is that we visually guessed there is no more than 10 clusters\n",
    "\n",
    "distortions = []\n",
    "for i in range(500, 600):\n",
    "    km = KMeans(n_clusters=i,\n",
    "                init='k-means++',\n",
    "                n_init=10,\n",
    "                max_iter=300,\n",
    "                random_state=0)\n",
    "    km.fit(locs.iloc[:,1:3])\n",
    "    distortions.append(km.inertia_)\n",
    "plt.plot(range(500,600), distortions, marker='o')\n",
    "plt.xlabel('Number of clusters')\n",
    "plt.ylabel('Distortion')\n",
    "plt.show()"
   ]
  },
  {
   "cell_type": "code",
   "execution_count": 16,
   "metadata": {
    "collapsed": false
   },
   "outputs": [
    {
     "data": {
      "image/png": "[encoded data removed]",
      "text/plain": [
       "<matplotlib.figure.Figure at 0xe691550>"
      ]
     },
     "metadata": {},
     "output_type": "display_data"
    }
   ],
   "source": [
    "# Let's decide how many clusters are we going to create\n",
    "# I will use \"the elbow method\"\n",
    "# plot variance for each value for 'k' between 1,10 -- reason is that we visually guessed there is no more than 10 clusters\n",
    "\n",
    "distortions = []\n",
    "for i in range(600, 610):\n",
    "    km = KMeans(n_clusters=i,\n",
    "                init='k-means++',\n",
    "                n_init=10,\n",
    "                max_iter=300,\n",
    "                random_state=0)\n",
    "    km.fit(locs.iloc[:,1:3])\n",
    "    distortions.append(km.inertia_)\n",
    "plt.plot(range(600,610), distortions, marker='o')\n",
    "plt.xlabel('Number of clusters')\n",
    "plt.ylabel('Distortion')\n",
    "plt.show()"
   ]
  },
  {
   "cell_type": "code",
   "execution_count": 17,
   "metadata": {
    "collapsed": false,
    "scrolled": true
   },
   "outputs": [
    {
     "data": {
      "image/png": "[encoded data removed]",
      "text/plain": [
       "<matplotlib.figure.Figure at 0xe9662b0>"
      ]
     },
     "metadata": {},
     "output_type": "display_data"
    }
   ],
   "source": [
    "# Let's decide how many clusters are we going to create\n",
    "# I decided to go back and try smaller numbers because the graph doesn't decrease significantly compared to before.\n",
    "\n",
    "distortions = []\n",
    "for i in range(1, 30):\n",
    "    km = KMeans(n_clusters=i,\n",
    "                init='k-means++',\n",
    "                n_init=10,\n",
    "                max_iter=300,\n",
    "                random_state=0)\n",
    "    km.fit(locs.iloc[:,1:3])\n",
    "    distortions.append(km.inertia_)\n",
    "plt.plot(range(1, 30), distortions, marker='o')\n",
    "plt.xlabel('Number of clusters')\n",
    "plt.ylabel('Distortion')\n",
    "plt.show()"
   ]
  },
  {
   "cell_type": "code",
   "execution_count": 19,
   "metadata": {
    "collapsed": false
   },
   "outputs": [
    {
     "data": {
      "image/png": "[encoded data removed]",
      "text/plain": [
       "<matplotlib.figure.Figure at 0xeea1c50>"
      ]
     },
     "metadata": {},
     "output_type": "display_data"
    }
   ],
   "source": [
    "# Let's try 1 to 15\n",
    "\n",
    "distortions = []\n",
    "for i in range(1, 15):\n",
    "    km = KMeans(n_clusters=i,\n",
    "                init='k-means++',\n",
    "                n_init=10,\n",
    "                max_iter=300,\n",
    "                random_state=0)\n",
    "    km.fit(locs.iloc[:,1:3])\n",
    "    distortions.append(km.inertia_)\n",
    "plt.plot(range(1, 15), distortions, marker='o')\n",
    "plt.xlabel('Number of clusters')\n",
    "plt.ylabel('Distortion')\n",
    "plt.show()"
   ]
  },
  {
   "cell_type": "code",
   "execution_count": 20,
   "metadata": {
    "collapsed": false
   },
   "outputs": [
    {
     "data": {
      "image/png": "[encoded data removed]",
      "text/plain": [
       "<matplotlib.figure.Figure at 0xe725a90>"
      ]
     },
     "metadata": {},
     "output_type": "display_data"
    }
   ],
   "source": [
    "# I cannot clearly see an elbow\n",
    "# But this is way better.\n",
    "# I was expecting high number of clustering but it seems the number of clusters will be low\n",
    "# Let me try 10 to 30 because in the second plot in this notebook 10 to seems ot have a clear elbow\n",
    "\n",
    "distortions = []\n",
    "for i in range(10, 30):\n",
    "    km = KMeans(n_clusters=i,\n",
    "                init='k-means++',\n",
    "                n_init=10,\n",
    "                max_iter=300,\n",
    "                random_state=0)\n",
    "    km.fit(locs.iloc[:,1:3])\n",
    "    distortions.append(km.inertia_)\n",
    "plt.plot(range(10, 30), distortions, marker='o')\n",
    "plt.xlabel('Number of clusters')\n",
    "plt.ylabel('Distortion')\n",
    "plt.show()"
   ]
  },
  {
   "cell_type": "code",
   "execution_count": 21,
   "metadata": {
    "collapsed": false
   },
   "outputs": [
    {
     "data": {
      "image/png": "[encoded data removed]",
      "text/plain": [
       "<matplotlib.figure.Figure at 0xd646390>"
      ]
     },
     "metadata": {},
     "output_type": "display_data"
    }
   ],
   "source": [
    "# Nope, I didn't like it.\n",
    "# I will go with 50 to 60, ten difference seems to show us results\n",
    "\n",
    "distortions = []\n",
    "for i in range(50, 60):\n",
    "    km = KMeans(n_clusters=i,\n",
    "                init='k-means++',\n",
    "                n_init=10,\n",
    "                max_iter=300,\n",
    "                random_state=0)\n",
    "    km.fit(locs.iloc[:,1:3])\n",
    "    distortions.append(km.inertia_)\n",
    "plt.plot(range(50, 60), distortions, marker='o')\n",
    "plt.xlabel('Number of clusters')\n",
    "plt.ylabel('Distortion')\n",
    "plt.show()"
   ]
  },
  {
   "cell_type": "code",
   "execution_count": 22,
   "metadata": {
    "collapsed": false
   },
   "outputs": [],
   "source": [
    "# Anyway, I will try 25\n",
    "# I checked all the plots above and 25 seems legit for now\n",
    "\n",
    "km = KMeans(n_clusters=25,\n",
    "            init='random', \n",
    "            n_init=10, \n",
    "            max_iter=300,\n",
    "            tol=1e-04,\n",
    "            random_state=0)\n",
    "y_km = km.fit_predict(locs.iloc[:,1:3])\n",
    "\n",
    "# Get the cluster assignments.\n",
    "labels = km.labels_"
   ]
  },
  {
   "cell_type": "code",
   "execution_count": 23,
   "metadata": {
    "collapsed": true
   },
   "outputs": [],
   "source": [
    "# Let's plot the result.\n",
    "fig = plt.figure(figsize=(80,80))\n",
    "ax = fig.add_subplot(111)\n",
    "ax.scatter(locs.iloc[:,1:2], locs.iloc[:,2:3],c=labels, s=4)\n",
    "fig.savefig('plots/largeClustered1.png', dpi = 100)"
   ]
  },
  {
   "cell_type": "code",
   "execution_count": 25,
   "metadata": {
    "collapsed": true
   },
   "outputs": [],
   "source": [
    "# I didn't like the plot. So I will plot it once more with bigger dots.\n",
    "fig = plt.figure(figsize=(80,80))\n",
    "ax = fig.add_subplot(111)\n",
    "ax.scatter(locs.iloc[:,1:2], locs.iloc[:,2:3],c=labels)\n",
    "fig.savefig('plots/largeClustered2.png', dpi = 100)"
   ]
  },
  {
   "cell_type": "code",
   "execution_count": 28,
   "metadata": {
    "collapsed": false
   },
   "outputs": [
    {
     "data": {
      "text/plain": [
       "array([13,  6,  6, ..., 15, 15, 15])"
      ]
     },
     "execution_count": 28,
     "metadata": {},
     "output_type": "execute_result"
    }
   ],
   "source": [
    "# Let's check the cluster array\n",
    "y_km"
   ]
  },
  {
   "cell_type": "code",
   "execution_count": 29,
   "metadata": {
    "collapsed": false
   },
   "outputs": [
    {
     "data": {
      "text/plain": [
       "array([ True, False, False, ..., False, False, False], dtype=bool)"
      ]
     },
     "execution_count": 29,
     "metadata": {},
     "output_type": "execute_result"
    }
   ],
   "source": [
    "# I want to check the keywords themselves from a cluster\n",
    "# to see if it's meaningful to put them in the same cluster\n",
    "# Let's get keyowords cluster number 13 for example\n",
    "# Let me test a code first\n",
    "a = y_km[:] == 13\n",
    "a"
   ]
  },
  {
   "cell_type": "code",
   "execution_count": 30,
   "metadata": {
    "collapsed": false
   },
   "outputs": [
    {
     "name": "stdout",
     "output_type": "stream",
     "text": [
      "Index([u'id', u'x', u'y'], dtype='object')\n",
      "(262, 3)\n"
     ]
    }
   ],
   "source": [
    "locs13 = locs[y_km[:] == 13]\n",
    "print(locs13.columns)\n",
    "print(locs13.shape)"
   ]
  },
  {
   "cell_type": "code",
   "execution_count": 33,
   "metadata": {
    "collapsed": false
   },
   "outputs": [
    {
     "name": "stdout",
     "output_type": "stream",
     "text": [
      "Index([u'id', u'name', u'date_added', u'entity_type_id'], dtype='object')\n",
      "(7416, 4)\n"
     ]
    }
   ],
   "source": [
    "# According to the result we have 262 keywords in cluster #13\n",
    "# Variable loc13 have their ids\n",
    "# let's check them from our list\n",
    "# read the x,y locations of the keywords from csv file to a dataframe\n",
    "entities = pd.read_csv('data_files/entity.csv',sep=';')\n",
    "print(entities.columns)\n",
    "print(entities.shape)"
   ]
  },
  {
   "cell_type": "code",
   "execution_count": 58,
   "metadata": {
    "collapsed": false
   },
   "outputs": [
    {
     "name": "stdout",
     "output_type": "stream",
     "text": [
      "judge\n",
      "manager\n",
      "actor\n",
      "author\n",
      "Mayor\n",
      "Sudan\n",
      "Thomas Jefferson\n",
      "Switzerland\n",
      "Saudi Arabia\n",
      "India\n",
      "United Nations\n",
      "U.N. Security Council\n",
      "immigration law\n",
      "representative\n",
      "Pearl Harbor\n",
      "Democratic aide\n",
      "Joseph McCarthy\n",
      "Easter\n",
      "Mikhail Khodorkovsky\n",
      "presidential elections\n",
      "Johnny\n",
      "Qatar\n",
      "United Arab Emirates\n",
      "law enforcement efforts\n",
      "foreign policy advisor\n",
      "Armando Ríos Píter\n",
      "Mike Pence\n",
      "Council vote\n",
      "deputy mayor\n",
      "Washington hotel\n",
      "Mauricio Macri\n",
      "Thanksgiving\n",
      "conservative news site\n",
      "refugees\n",
      "Washington\n",
      "San Francisco\n",
      "East Bay\n",
      "House Intelligence subcommittee\n",
      "Lynn Westmoreland\n",
      "Josh Schwerin\n",
      "Select Committee\n",
      "Jim DeMint\n",
      "leapfrogging veteran House Republican Leader\n",
      "Jeff Flake\n",
      "their primaries\n",
      "Tom DeLay\n",
      "policy entrepreneur\n",
      "Jerry Moran\n",
      "Bob Michel\n",
      "City Councilwoman\n",
      "City Council\n",
      "Variety\n",
      "public advocate\n",
      "George Stephanopolous\n",
      "said spokesman\n",
      "University of Florida's Department\n",
      "University of Florida's Department of Political Science\n",
      "media\n",
      "Deputy Director\n",
      "comedian\n",
      "This Week\n",
      "Martha Raddatz\n",
      "Syndrome Society\n",
      "Sara Hart Weir\n",
      "Roy Beck\n",
      "legacy media\n",
      "Central America\n",
      "Trade Representative\n",
      "Foreign Affairs Secretary\n",
      "Miguel Ángel Osorio Chong\n",
      "Carlos Gutierrez\n",
      "Ronald\n",
      "Jorge Ramos\n",
      "early critic\n",
      "Univision\n",
      "Foreign Secretary\n",
      "chief counsel\n",
      "University School\n",
      "Washington University School\n",
      "Stephen Legomsky\n",
      "Trump’s Department\n",
      "DHS Secretary\n",
      "low oil prices\n",
      "Ali Khamenei\n",
      "Mohammad Javad Zarif\n",
      "Geneva\n",
      "supreme leader\n",
      "oil markets\n",
      "oil demand\n",
      "beleaguered oil producers\n",
      "oil imports\n",
      "conventional oil\n",
      "oil prices rise\n",
      "oil price\n",
      "oil intensity\n",
      "means oil\n",
      "stable oil prices\n",
      "Istanbul\n",
      "Abu Dhabi Investment Authority\n",
      "energy efficiency\n",
      "energy boom\n",
      "lower oil prices\n",
      "oil producers\n",
      "electricity generation\n",
      "oil glut\n",
      "oil production\n",
      "Christof Rühl\n",
      "oil efficiency\n",
      "gas bill falls\n",
      "Organization of Petroleum-Exporting Countries\n",
      "U . S . Energy\n",
      "Warren Weinstein\n",
      "senior administration official\n",
      "family attorney\n",
      "public relations firm working\n",
      "United States Embassy in Tehran\n",
      "John Brownlee\n",
      "United States Embassy\n",
      "George Clooney\n",
      "Supreme Court\n",
      "machinery\n",
      "dangerous network\n",
      "U.S. Southern Command\n",
      "Homeland Security head\n",
      "Washington Office for Latin America\n",
      "Maureen Meyer\n",
      "Costa Rica\n",
      "Security Secretary\n",
      "United Nations High Commissioner for Refugees\n",
      "Hollywood producer\n",
      "USA Today\n",
      "Adam Schiff\n",
      "public relations\n",
      "policy analyst\n",
      "216-522-7095\n",
      "Ben Rhodes\n",
      "Deputy national security adviser\n",
      "Security Council\n",
      "Midwest\n",
      "Bud Jackson\n",
      "The Obama camp\n",
      "oil and gas prices\n",
      "Democratic media strategist\n",
      "Celinda Lake\n",
      "well-paid hospital administrator\n",
      "Obama camp\n",
      "Al Gore\n",
      "John F. Kerry\n",
      "Arabian Peninsula\n",
      "Lausanne\n",
      "Abed Rabbo Mansour Hadi\n",
      "International Atomic Energy Agency\n",
      "Donald Lamb\n",
      "Senate Foreign Relations Committee\n",
      "Montana\n",
      "Johnson\n",
      "Democratic state Chairman\n",
      "Democratic caucuses\n",
      "4th of July\n",
      "rasmussen\n",
      "energy prices\n",
      "Allen E. Weh\n",
      "David Strauss\n",
      "Adriana Martinez\n",
      "David Plouff\n",
      "Nevada\n",
      "state Republican chairman\n",
      "Colorado\n",
      "Quinnipiac University Polling Institute\n",
      "Quinnipiac University Polling Institute\n",
      "campaign official\n",
      "media buys\n",
      "assistant director\n",
      "AIDS\n",
      "Fatehmeh Shahini\n",
      "special envoy for hostage affairs\n",
      "India.melissa.etehad@latimes.comTwitter\n",
      "National Iranian American Council\n",
      "Coral Springs\n",
      "Karan Vafadari\n",
      "Gorgan prison\n",
      "Bengali\n",
      "Mumbai\n",
      "centrist president\n",
      "Baquer Namazi\n",
      "United Nations Children’s Fund\n",
      "northeastern Iran\n",
      "Robert Levinson\n",
      "ZTE\n",
      "Siamak Namazi\n",
      "Jared Genser\n",
      "Iranian American Council\n",
      "Tehran’s Evin Prison\n",
      "dealer\n",
      "Babak Namazi\n",
      "Trita Parsi\n",
      "bypass surgery\n",
      "heart arrhythmia\n",
      "Egyptian Muslim Brotherhood\n",
      "final prime minister\n",
      "candidate , Moammad Morsi\n",
      "Iraq’s government\n",
      "Mubarak Ali\n",
      "Muslim Brotherhood\n",
      "Ahmad Shafik\n",
      "self-declared leader\n",
      "Republican Whip\n",
      "gas bill rise dollar\n",
      "gas price debate\n",
      "humorist\n",
      "high gas prices\n",
      "energy resources\n",
      "energy independence\n",
      "coal technology\n",
      "Will Rogers statue\n",
      "lower gas prices\n",
      "budget-crushing gas prices\n",
      "gas crisis\n",
      "energy bill\n",
      "Friends of the Earth\n",
      "coal technology\n",
      "energy plan\n",
      "Roy Blunt\n",
      "Andrew Breitbart\n",
      "news Web site\n",
      "J.D. Foster\n",
      "Yun Byung-se\n",
      "Hwang Kyo-ahn\n",
      "the Korea Herald\n",
      "Park Geun-hye\n",
      "The Korea Herald\n",
      "acting President and Prime Minister\n",
      "Republican state chairman\n",
      "hockey\n",
      "Ron Carey\n",
      "Chris Redfern\n",
      "Florida Republican\n",
      "Mac Stipanovich\n",
      "Mel Martinez\n",
      "Frank Donatelli\n",
      "mason-dixon\n",
      "American Research Group\n",
      "Bob Bennett\n",
      "Ciruli Association\n",
      "Real Clear Politics\n",
      "state chairman\n",
      "co-director of the liberal Center\n",
      "R. Glenn Hubbard\n",
      "Libertarian Party\n",
      "Center for American Progress\n",
      "candidate for president\n",
      "Bush’s Council\n",
      "Jason Furman\n",
      "American Progress\n",
      "Dean Baker\n",
      "D. Foster\n",
      "Bob Barr\n",
      "Douglas Holtz-Eakin\n",
      "director of economic policy for Mr. Obama\n",
      "Federal Housing Authority\n",
      "chief economic adviser\n",
      "Arizona Republican\n"
     ]
    }
   ],
   "source": [
    "# We load all the keywords we have now let's print them according to the ids we have in loc13\n",
    "for x in range(0, locs13.shape[0]):\n",
    "    #print entities[entities['id']==locs13.iloc[x]['id']]['name']\n",
    "    print entities[entities['id']==locs13.iloc[x]['id']]['name'].iloc[0]"
   ]
  },
  {
   "cell_type": "code",
   "execution_count": 59,
   "metadata": {
    "collapsed": false
   },
   "outputs": [],
   "source": [
    "# So we printed them haha they don't make sense at all.\n",
    "# Now I thinks 262 different keywords won't make sense for sure\n",
    "# Why don't we increase the number of cluster so that we have around 15 keywords in a cluster\n",
    "# This means we need to have 5751/15 ~= 383 clusters/\n",
    "# Let's do that then\n",
    "\n",
    "km = KMeans(n_clusters=380,\n",
    "            init='random', \n",
    "            n_init=10, \n",
    "            max_iter=300,\n",
    "            tol=1e-04,\n",
    "            random_state=0)\n",
    "y_km = km.fit_predict(locs.iloc[:,1:3])"
   ]
  },
  {
   "cell_type": "code",
   "execution_count": 60,
   "metadata": {
    "collapsed": false
   },
   "outputs": [
    {
     "name": "stdout",
     "output_type": "stream",
     "text": [
      "Index([u'id', u'x', u'y'], dtype='object')\n",
      "(23, 3)\n"
     ]
    }
   ],
   "source": [
    "# Again get the cluster #13\n",
    "locs13 = locs[y_km[:] == 13]\n",
    "print(locs13.columns)\n",
    "print(locs13.shape)"
   ]
  },
  {
   "cell_type": "code",
   "execution_count": 62,
   "metadata": {
    "collapsed": false
   },
   "outputs": [
    {
     "name": "stdout",
     "output_type": "stream",
     "text": [
      "Washington hotel\n",
      "This Week\n",
      "Martha Raddatz\n",
      "conventional oil\n",
      "oil efficiency\n",
      "gas bill falls\n",
      "U . S . Energy\n",
      "policy analyst\n",
      "Bud Jackson\n",
      "The Obama camp\n",
      "Democratic media strategist\n",
      "Celinda Lake\n",
      "well-paid hospital administrator\n",
      "Iraq’s government\n",
      "Muslim Brotherhood\n",
      "Ahmad Shafik\n",
      "self-declared leader\n",
      "Hwang Kyo-ahn\n",
      "the Korea Herald\n",
      "Park Geun-hye\n",
      "The Korea Herald\n",
      "acting President and Prime Minister\n",
      "Republican state chairman\n"
     ]
    }
   ],
   "source": [
    "# 23 keywords looks ok\n",
    "# Let's print them :))\n",
    "\n",
    "for x in range(0, locs13.shape[0]):\n",
    "    #print entities[entities['id']==locs13.iloc[x]['id']]['name']\n",
    "    print entities[entities['id']==locs13.iloc[x]['id']]['name'].iloc[0]"
   ]
  },
  {
   "cell_type": "code",
   "execution_count": 64,
   "metadata": {
    "collapsed": false
   },
   "outputs": [
    {
     "name": "stdout",
     "output_type": "stream",
     "text": [
      "Cambridge\n",
      "ethics chairman\n",
      "Vice News\n",
      "David Zucker\n",
      "Access Hollywood\n",
      "Ryan Shapiro\n",
      "federal representative\n",
      "past labor law violations\n",
      "natural gas processors\n",
      "Mike Lillis\n",
      "campaign infrastructure\n",
      "Oz Show\n",
      "United States senator\n",
      "Rosie O’Donnell & Co.\n",
      "moose hunter\n"
     ]
    }
   ],
   "source": [
    "# Keywords cluster looks meaningful\n",
    "# Let's check another cluster randomly. Say cluster #152\n",
    "locs152 = locs[y_km[:] == 152]\n",
    "for x in range(0, locs152.shape[0]):\n",
    "    print entities[entities['id']==locs152.iloc[x]['id']]['name'].iloc[0]"
   ]
  },
  {
   "cell_type": "code",
   "execution_count": 66,
   "metadata": {
    "collapsed": false
   },
   "outputs": [
    {
     "name": "stdout",
     "output_type": "stream",
     "text": [
      "New Jersey\n",
      "Clinton\n",
      "Human Services Secretary\n",
      "Palm Beach\n",
      "Kirsten GillibrandKirsten\n",
      "Flint\n",
      "Ethics Committee\n",
      "Caucus chairman\n",
      "Nevada\n",
      "United Steelworkers 1999\n",
      "House Veterans' Affairs Committee\n"
     ]
    }
   ],
   "source": [
    "# cluster #200\n",
    "locs200 = locs[y_km[:] == 200]\n",
    "for x in range(0, locs200.shape[0]):\n",
    "    print entities[entities['id']==locs200.iloc[x]['id']]['name'].iloc[0]"
   ]
  },
  {
   "cell_type": "code",
   "execution_count": null,
   "metadata": {
    "collapsed": true
   },
   "outputs": [],
   "source": []
  }
 ],
 "metadata": {
  "kernelspec": {
   "display_name": "Python 2",
   "language": "python",
   "name": "python2"
  },
  "language_info": {
   "codemirror_mode": {
    "name": "ipython",
    "version": 2
   },
   "file_extension": ".py",
   "mimetype": "text/x-python",
   "name": "python",
   "nbconvert_exporter": "python",
   "pygments_lexer": "ipython2",
   "version": "2.7.13"
  }
 },
 "nbformat": 4,
 "nbformat_minor": 2
}
