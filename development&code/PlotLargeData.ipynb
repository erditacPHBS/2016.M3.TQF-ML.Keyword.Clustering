{
 "cells": [
  {
   "cell_type": "code",
   "execution_count": 1,
   "metadata": {
    "collapsed": true
   },
   "outputs": [],
   "source": [
    "# import pandas library to read data from files and to create data frames\n",
    "import pandas as pd\n",
    "# import plot library\n",
    "import matplotlib.pyplot as plt"
   ]
  },
  {
   "cell_type": "code",
   "execution_count": 39,
   "metadata": {
    "collapsed": false
   },
   "outputs": [
    {
     "name": "stdout",
     "output_type": "stream",
     "text": [
      "Index([u'id', u'x', u'y'], dtype='object')\n",
      "(6753, 3)\n"
     ]
    }
   ],
   "source": [
    "# read the x,y locations of the keywords from csv file to a dataframe\n",
    "locs = pd.read_csv('data_files/afterMappingLarge.csv',sep=';')\n",
    "print(locs.columns)\n",
    "print(locs.shape)"
   ]
  },
  {
   "cell_type": "code",
   "execution_count": 23,
   "metadata": {
    "collapsed": false
   },
   "outputs": [],
   "source": [
    "# Let's plot the keywords to see visually how they are clustered\n",
    "plt.scatter(locs.iloc[:,1:2], locs.iloc[:,2:3], c='black', marker='o', s=50)\n",
    "#plt.grid()\n",
    "#plt.tight_layout()\n",
    "\n",
    "#plt.figure(figsize=(10,10))\n",
    "#fig = matplotlib.pyplot.gcf()\n",
    "#plt.set_size_inches(18.5, 10.5)\n",
    "\n",
    "plt.savefig('plots/largeData4.png', dpi=100)\n",
    "#plt.close(fig) "
   ]
  },
  {
   "cell_type": "code",
   "execution_count": 19,
   "metadata": {
    "collapsed": false
   },
   "outputs": [],
   "source": [
    "fig = plt.scatter(locs.iloc[:,1:2], locs.iloc[:,2:3], c='black', marker='o', s=50)\n",
    "plt.figure(figsize=(10,10))\n",
    "plt.savefig('plots/largeData2.png', dpi=100)   # save the figure to file\n",
    "#plt.close(fig)    # close the figu"
   ]
  },
  {
   "cell_type": "code",
   "execution_count": 22,
   "metadata": {
    "collapsed": true
   },
   "outputs": [],
   "source": [
    "fig = plt.scatter(locs.iloc[:,1:2], locs.iloc[:,2:3], c='black', marker='o', s=50)\n",
    "plt.figure(figsize=(10,10)).savefig('plots/largeData3.png', dpi=100)\n",
    "#fig.savefig('plots/largeData3.png', dpi=100)   # save the figure to file\n",
    "#plt.close(fig)    # close the figu"
   ]
  },
  {
   "cell_type": "code",
   "execution_count": 26,
   "metadata": {
    "collapsed": false
   },
   "outputs": [],
   "source": [
    "fig = plt.figure(figsize=(10,10))\n",
    "ax = fig.add_subplot(111)\n",
    "ax.scatter(locs.iloc[:,1:2], locs.iloc[:,2:3],)\n",
    "fig.savefig('plots/largeData5.png', dpi = 300)"
   ]
  },
  {
   "cell_type": "code",
   "execution_count": 29,
   "metadata": {
    "collapsed": true
   },
   "outputs": [],
   "source": [
    "fig = plt.figure(figsize=(10,10))\n",
    "ax = fig.add_subplot(111)\n",
    "ax.scatter(locs.iloc[:,1:2], locs.iloc[:,2:3],c='black', marker='o', s=50)\n",
    "fig.savefig('plots/largeData7.png', dpi = 300)"
   ]
  },
  {
   "cell_type": "code",
   "execution_count": 31,
   "metadata": {
    "collapsed": true
   },
   "outputs": [],
   "source": [
    "# This is the final trial, this image shows the data very well\n",
    "fig = plt.figure(figsize=(100,100))\n",
    "ax = fig.add_subplot(111)\n",
    "ax.scatter(locs.iloc[:,1:2], locs.iloc[:,2:3],c='black', marker='o', s=1)\n",
    "fig.savefig('plots/largeData8.png', dpi = 100)"
   ]
  },
  {
   "cell_type": "code",
   "execution_count": 44,
   "metadata": {
    "collapsed": false,
    "scrolled": true
   },
   "outputs": [
    {
     "name": "stdout",
     "output_type": "stream",
     "text": [
      "Index([u'id', u'x', u'y'], dtype='object')\n",
      "(5751, 3)\n"
     ]
    }
   ],
   "source": [
    "# Let's cut the keywords that are far away from the center\n",
    "# They won't make any sense to cluster\n",
    "locs = locs[locs['y'] > -1200]\n",
    "locs = locs[locs['y'] < 1200]\n",
    "locs = locs[locs['x'] > -1200]\n",
    "locs = locs[locs['x'] < 1200]\n",
    "print(locs.columns)\n",
    "print(locs.shape)"
   ]
  },
  {
   "cell_type": "code",
   "execution_count": 48,
   "metadata": {
    "collapsed": true
   },
   "outputs": [],
   "source": [
    "fig = plt.figure(figsize=(80,80))\n",
    "ax = fig.add_subplot(111)\n",
    "ax.scatter(locs.iloc[:,1:2], locs.iloc[:,2:3],c='black', marker='o', s=4)\n",
    "fig.savefig('plots/largeDataCutted.png', dpi = 100)"
   ]
  },
  {
   "cell_type": "code",
   "execution_count": null,
   "metadata": {
    "collapsed": true
   },
   "outputs": [],
   "source": []
  }
 ],
 "metadata": {
  "kernelspec": {
   "display_name": "Python 2",
   "language": "python",
   "name": "python2"
  },
  "language_info": {
   "codemirror_mode": {
    "name": "ipython",
    "version": 2
   },
   "file_extension": ".py",
   "mimetype": "text/x-python",
   "name": "python",
   "nbconvert_exporter": "python",
   "pygments_lexer": "ipython2",
   "version": "2.7.13"
  }
 },
 "nbformat": 4,
 "nbformat_minor": 2
}
